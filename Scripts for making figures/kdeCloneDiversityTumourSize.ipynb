{
 "cells": [
  {
   "cell_type": "code",
   "execution_count": null,
   "id": "99f0074d",
   "metadata": {},
   "outputs": [],
   "source": [
    "\"\"\"\n",
    "    File : kdeCloneDiversityTumourSize.ipynb\n",
    "    Plot : kernel density estimation of tumour states with respect to the number of clones and size\n",
    "    Input : \n",
    "        SourceData_Fig5b.xlsx\n",
    "\"\"\""
   ]
  },
  {
   "cell_type": "code",
   "execution_count": 1,
   "id": "fad007ea",
   "metadata": {},
   "outputs": [],
   "source": [
    "import pandas as pd\n",
    "import matplotlib.pyplot as plt\n",
    "import seaborn as sns\n",
    "import os"
   ]
  },
  {
   "cell_type": "code",
   "execution_count": 2,
   "id": "91536614",
   "metadata": {},
   "outputs": [],
   "source": [
    "path_to_all_source_data = \"../Source data for figures\""
   ]
  },
  {
   "cell_type": "code",
   "execution_count": 6,
   "id": "db45de05",
   "metadata": {},
   "outputs": [],
   "source": [
    "def plot_data(\n",
    "    data\n",
    "):\n",
    "    for condition in data.Condition.unique():\n",
    "        print(f'{condition} Growth')\n",
    "        data_cond = data.loc[\n",
    "            data.Condition == condition\n",
    "        ]\n",
    "        macrodiv_plot = data_cond.loc[\n",
    "            data_cond.SliceDiameter >= 20\n",
    "        ]\n",
    "        if condition == 'Surface':\n",
    "            color = 'red'\n",
    "        elif condition == 'Volume':\n",
    "            color = 'blue'\n",
    "            \n",
    "        jp = sns.jointplot(\n",
    "            data = macrodiv_plot,\n",
    "            x = \"SliceDiameter\", y = \"NumberSubclone\",\n",
    "            color = color,\n",
    "            kind=\"kde\",\n",
    "            fill=True,\n",
    "            height = 2.75,\n",
    "            levels = 10,\n",
    "            thresh = 0.05\n",
    "        )\n",
    "        \n",
    "        jp.set_axis_labels('Diameter of tumour slice (mm)', 'Number of subclones', fontsize=8)\n",
    "\n",
    "        jp.ax_marg_x.set_xlim(-10, 160)\n",
    "        jp.ax_marg_y.set_ylim(-2, 15)\n",
    "\n",
    "        plt.show()\n",
    "\n"
   ]
  },
  {
   "cell_type": "markdown",
   "id": "4d3b6706",
   "metadata": {},
   "source": [
    "# Figure 5b"
   ]
  },
  {
   "cell_type": "code",
   "execution_count": 3,
   "id": "d888510d",
   "metadata": {},
   "outputs": [],
   "source": [
    "path_to_excelfile = os.path.join(\n",
    "    path_to_all_source_data,\n",
    "    \"Source_Data_Figure_5\",\n",
    "    \"SourceData_Fig5b.xlsx\"\n",
    ")"
   ]
  },
  {
   "cell_type": "code",
   "execution_count": 4,
   "id": "1d7177f1",
   "metadata": {},
   "outputs": [
    {
     "data": {
      "text/plain": [
       "['SourceDataFig5b']"
      ]
     },
     "execution_count": 4,
     "metadata": {},
     "output_type": "execute_result"
    }
   ],
   "source": [
    "excelfile = pd.ExcelFile(path_to_excelfile)\n",
    "excelfile.sheet_names"
   ]
  },
  {
   "cell_type": "code",
   "execution_count": 5,
   "id": "bcf2a2de",
   "metadata": {},
   "outputs": [],
   "source": [
    "data = pd.read_excel(\n",
    "    excelfile, \n",
    "    sheet_name=excelfile.sheet_names[0]\n",
    ")"
   ]
  },
  {
   "cell_type": "code",
   "execution_count": 7,
   "id": "3b2b25dd",
   "metadata": {},
   "outputs": [
    {
     "name": "stdout",
     "output_type": "stream",
     "text": [
      "Surface Growth\n"
     ]
    },
    {
     "data": {
      "image/png": "[encoded data removed]",
      "text/plain": [
       "<Figure size 198x198 with 3 Axes>"
      ]
     },
     "metadata": {
      "needs_background": "light"
     },
     "output_type": "display_data"
    },
    {
     "name": "stdout",
     "output_type": "stream",
     "text": [
      "Volume Growth\n"
     ]
    },
    {
     "data": {
      "image/png": "[encoded data removed]",
      "text/plain": [
       "<Figure size 198x198 with 3 Axes>"
      ]
     },
     "metadata": {
      "needs_background": "light"
     },
     "output_type": "display_data"
    }
   ],
   "source": [
    "plot_data(data)"
   ]
  },
  {
   "cell_type": "code",
   "execution_count": null,
   "id": "28b6acb0",
   "metadata": {},
   "outputs": [],
   "source": []
  }
 ],
 "metadata": {
  "kernelspec": {
   "display_name": "Python 3 (ipykernel)",
   "language": "python",
   "name": "python3"
  },
  "language_info": {
   "codemirror_mode": {
    "name": "ipython",
    "version": 3
   },
   "file_extension": ".py",
   "mimetype": "text/x-python",
   "name": "python",
   "nbconvert_exporter": "python",
   "pygments_lexer": "ipython3",
   "version": "3.7.10"
  }
 },
 "nbformat": 4,
 "nbformat_minor": 5
}
